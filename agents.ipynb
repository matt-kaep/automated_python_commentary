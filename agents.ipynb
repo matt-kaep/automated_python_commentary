{
 "cells": [
  {
   "cell_type": "code",
   "execution_count": 1,
   "metadata": {},
   "outputs": [],
   "source": [
    "import os\n",
    "from dotenv import load_dotenv\n",
    "import subprocess\n",
    "from langchain import OpenAI\n",
    "from langchain.chat_models import AzureChatOpenAI\n",
    "from langchain.agents import load_tools\n",
    "from langchain.agents import initialize_agent\n",
    "\n",
    "from langchain.prompts import PromptTemplate\n",
    "from langchain.chains import LLMChain\n",
    "from langchain.agents import Tool"
   ]
  },
  {
   "cell_type": "code",
   "execution_count": 2,
   "metadata": {},
   "outputs": [],
   "source": [
    "os.environ['OPENAI_API_VERSION'] = '2024-05-01-preview'\n",
    "load_dotenv()\n",
    "\n",
    "AZURE_OPENAI_API_KEY = \"4a8f724e3ef84157bc5378553d3dec14\"\n",
    "AZURE_OPENAI_ENDPOINT = \"https://elevengpt.openai.azure.com/\"\n",
    "\n",
    "model1 = 'gpt4_32k'\n",
    "model2 = 'eleven_gpt_35_turbo_16k'"
   ]
  },
  {
   "cell_type": "code",
   "execution_count": 3,
   "metadata": {},
   "outputs": [
    {
     "name": "stderr",
     "output_type": "stream",
     "text": [
      "c:\\Users\\MatthieuKAEPPELIN\\anaconda3\\envs\\longchain_training\\Lib\\site-packages\\langchain_core\\_api\\deprecation.py:139: LangChainDeprecationWarning: The class `AzureChatOpenAI` was deprecated in LangChain 0.0.10 and will be removed in 0.3.0. An updated version of the class exists in the langchain-openai package and should be used instead. To use it run `pip install -U langchain-openai` and import as `from langchain_openai import AzureChatOpenAI`.\n",
      "  warn_deprecated(\n",
      "c:\\Users\\MatthieuKAEPPELIN\\anaconda3\\envs\\longchain_training\\Lib\\site-packages\\langchain_core\\_api\\deprecation.py:139: LangChainDeprecationWarning: The function `initialize_agent` was deprecated in LangChain 0.1.0 and will be removed in 0.3.0. Use Use new agent constructor methods like create_react_agent, create_json_agent, create_structured_chat_agent, etc. instead.\n",
      "  warn_deprecated(\n"
     ]
    }
   ],
   "source": [
    "llm = AzureChatOpenAI(azure_deployment=model1, api_version='2024-05-01-preview', temperature=0, max_tokens=None, timeout=None, max_retries=2)\n",
    "\n",
    "tools = load_tools(['llm-math'],llm=llm)\n",
    "\n",
    "zero_shot_agent = initialize_agent(\n",
    "    agent=\"zero-shot-react-description\",\n",
    "    tools=tools,\n",
    "    llm=llm,\n",
    "    verbose=True,\n",
    "    max_iterations=3,\n",
    "    handle_parsing_errors=True\n",
    ")\n",
    "\n"
   ]
  },
  {
   "cell_type": "code",
   "execution_count": 4,
   "metadata": {},
   "outputs": [
    {
     "name": "stderr",
     "output_type": "stream",
     "text": [
      "c:\\Users\\MatthieuKAEPPELIN\\anaconda3\\envs\\longchain_training\\Lib\\site-packages\\langchain_core\\_api\\deprecation.py:139: LangChainDeprecationWarning: The method `Chain.__call__` was deprecated in langchain 0.1.0 and will be removed in 0.3.0. Use invoke instead.\n",
      "  warn_deprecated(\n"
     ]
    },
    {
     "name": "stdout",
     "output_type": "stream",
     "text": [
      "\n",
      "\n",
      "\u001b[1m> Entering new AgentExecutor chain...\u001b[0m\n",
      "\u001b[32;1m\u001b[1;3mThis is a mathematical question. I need to calculate the expression (4.5*2.1)^2.2.\n",
      "Action: Calculator\n",
      "Action Input: (4.5*2.1)**2.2\u001b[0m\n",
      "Observation: \u001b[36;1m\u001b[1;3mAnswer: 139.94261298333066\u001b[0m\n",
      "Thought:\u001b[32;1m\u001b[1;3mI have calculated the expression and have the result.\n",
      "Final Answer: The result of the expression (4.5*2.1)^2.2 is approximately 139.94.\u001b[0m\n",
      "\n",
      "\u001b[1m> Finished chain.\u001b[0m\n"
     ]
    },
    {
     "data": {
      "text/plain": [
       "{'input': 'Combient fait (4.5*2.1)^2.2 ?',\n",
       " 'output': 'The result of the expression (4.5*2.1)^2.2 is approximately 139.94.'}"
      ]
     },
     "execution_count": 4,
     "metadata": {},
     "output_type": "execute_result"
    }
   ],
   "source": [
    "zero_shot_agent(\"Combient fait (4.5*2.1)^2.2 ?\")"
   ]
  },
  {
   "cell_type": "code",
   "execution_count": 5,
   "metadata": {},
   "outputs": [
    {
     "name": "stderr",
     "output_type": "stream",
     "text": [
      "c:\\Users\\MatthieuKAEPPELIN\\anaconda3\\envs\\longchain_training\\Lib\\site-packages\\langchain_core\\_api\\deprecation.py:139: LangChainDeprecationWarning: The class `LLMChain` was deprecated in LangChain 0.1.17 and will be removed in 1.0. Use RunnableSequence, e.g., `prompt | llm` instead.\n",
      "  warn_deprecated(\n"
     ]
    }
   ],
   "source": [
    "prompt = PromptTemplate(\n",
    "    input_variables=[\"query\"],\n",
    "    template=\"{query}\"\n",
    ")\n",
    "\n",
    "llm_chain = LLMChain(llm=llm, prompt=prompt)\n",
    "\n",
    "# initialize the LLM tool\n",
    "llm_tool = Tool(\n",
    "    name='Language Model',\n",
    "    func=llm_chain.run,\n",
    "    description='use this tool for general purpose queries and logic'\n",
    ")\n",
    "\n",
    "tools.append(llm_tool)"
   ]
  },
  {
   "cell_type": "code",
   "execution_count": 6,
   "metadata": {},
   "outputs": [
    {
     "name": "stdout",
     "output_type": "stream",
     "text": [
      "[Tool(name='Calculator', description='Useful for when you need to answer questions about math.', func=<bound method Chain.run of LLMMathChain(llm_chain=LLMChain(prompt=PromptTemplate(input_variables=['question'], template='Translate a math problem into a expression that can be executed using Python\\'s numexpr library. Use the output of running this code to answer the question.\\n\\nQuestion: ${{Question with math problem.}}\\n```text\\n${{single line mathematical expression that solves the problem}}\\n```\\n...numexpr.evaluate(text)...\\n```output\\n${{Output of running the code}}\\n```\\nAnswer: ${{Answer}}\\n\\nBegin.\\n\\nQuestion: What is 37593 * 67?\\n```text\\n37593 * 67\\n```\\n...numexpr.evaluate(\"37593 * 67\")...\\n```output\\n2518731\\n```\\nAnswer: 2518731\\n\\nQuestion: 37593^(1/5)\\n```text\\n37593**(1/5)\\n```\\n...numexpr.evaluate(\"37593**(1/5)\")...\\n```output\\n8.222831614237718\\n```\\nAnswer: 8.222831614237718\\n\\nQuestion: {question}\\n'), llm=AzureChatOpenAI(client=<openai.resources.chat.completions.Completions object at 0x0000024A2FE77E10>, async_client=<openai.resources.chat.completions.AsyncCompletions object at 0x0000024A301B2890>, temperature=0.0, openai_api_key='4a8f724e3ef84157bc5378553d3dec14', openai_proxy='', azure_endpoint='https://elevengpt.openai.azure.com/', deployment_name='gpt4_32k', openai_api_version='2024-05-01-preview', openai_api_type='azure')))>, coroutine=<bound method Chain.arun of LLMMathChain(llm_chain=LLMChain(prompt=PromptTemplate(input_variables=['question'], template='Translate a math problem into a expression that can be executed using Python\\'s numexpr library. Use the output of running this code to answer the question.\\n\\nQuestion: ${{Question with math problem.}}\\n```text\\n${{single line mathematical expression that solves the problem}}\\n```\\n...numexpr.evaluate(text)...\\n```output\\n${{Output of running the code}}\\n```\\nAnswer: ${{Answer}}\\n\\nBegin.\\n\\nQuestion: What is 37593 * 67?\\n```text\\n37593 * 67\\n```\\n...numexpr.evaluate(\"37593 * 67\")...\\n```output\\n2518731\\n```\\nAnswer: 2518731\\n\\nQuestion: 37593^(1/5)\\n```text\\n37593**(1/5)\\n```\\n...numexpr.evaluate(\"37593**(1/5)\")...\\n```output\\n8.222831614237718\\n```\\nAnswer: 8.222831614237718\\n\\nQuestion: {question}\\n'), llm=AzureChatOpenAI(client=<openai.resources.chat.completions.Completions object at 0x0000024A2FE77E10>, async_client=<openai.resources.chat.completions.AsyncCompletions object at 0x0000024A301B2890>, temperature=0.0, openai_api_key='4a8f724e3ef84157bc5378553d3dec14', openai_proxy='', azure_endpoint='https://elevengpt.openai.azure.com/', deployment_name='gpt4_32k', openai_api_version='2024-05-01-preview', openai_api_type='azure')))>), Tool(name='Language Model', description='use this tool for general purpose queries and logic', func=<bound method Chain.run of LLMChain(prompt=PromptTemplate(input_variables=['query'], template='{query}'), llm=AzureChatOpenAI(client=<openai.resources.chat.completions.Completions object at 0x0000024A2FE77E10>, async_client=<openai.resources.chat.completions.AsyncCompletions object at 0x0000024A301B2890>, temperature=0.0, openai_api_key='4a8f724e3ef84157bc5378553d3dec14', openai_proxy='', azure_endpoint='https://elevengpt.openai.azure.com/', deployment_name='gpt4_32k', openai_api_version='2024-05-01-preview', openai_api_type='azure'))>)]\n"
     ]
    }
   ],
   "source": [
    "print(tools)"
   ]
  },
  {
   "cell_type": "code",
   "execution_count": 7,
   "metadata": {},
   "outputs": [],
   "source": [
    "agentzero_shot_agent = initialize_agent(agent=\"zero-shot-react-description\",\n",
    "                                        tools=tools,\n",
    "                                        llm=llm,\n",
    "                                        verbose=True,\n",
    "                                        max_iterations=3,\n",
    "                                        handle_parsing_errors=True\n",
    "                                        )"
   ]
  },
  {
   "cell_type": "code",
   "execution_count": 8,
   "metadata": {},
   "outputs": [
    {
     "name": "stdout",
     "output_type": "stream",
     "text": [
      "\n",
      "\n",
      "\u001b[1m> Entering new AgentExecutor chain...\u001b[0m\n",
      "\u001b[32;1m\u001b[1;3mThis question is asking for the capital of Norway. I don't need to use the calculator for this, as it's a general knowledge question.\n",
      "Final Answer: La capitale de la Norvège est Oslo.\u001b[0m\n",
      "\n",
      "\u001b[1m> Finished chain.\u001b[0m\n"
     ]
    },
    {
     "data": {
      "text/plain": [
       "{'input': 'Quelle est la capitale de la Norvége ?',\n",
       " 'output': 'La capitale de la Norvège est Oslo.'}"
      ]
     },
     "execution_count": 8,
     "metadata": {},
     "output_type": "execute_result"
    }
   ],
   "source": [
    "zero_shot_agent(\"Quelle est la capitale de la Norvége ?\")"
   ]
  },
  {
   "cell_type": "code",
   "execution_count": null,
   "metadata": {},
   "outputs": [],
   "source": []
  }
 ],
 "metadata": {
  "kernelspec": {
   "display_name": "Formation_RAG",
   "language": "python",
   "name": "python3"
  },
  "language_info": {
   "codemirror_mode": {
    "name": "ipython",
    "version": 3
   },
   "file_extension": ".py",
   "mimetype": "text/x-python",
   "name": "python",
   "nbconvert_exporter": "python",
   "pygments_lexer": "ipython3",
   "version": "3.11.9"
  }
 },
 "nbformat": 4,
 "nbformat_minor": 2
}
